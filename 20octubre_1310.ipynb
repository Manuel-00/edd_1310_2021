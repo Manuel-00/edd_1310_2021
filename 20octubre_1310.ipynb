{
  "nbformat": 4,
  "nbformat_minor": 0,
  "metadata": {
    "colab": {
      "name": "20octubre_1310.ipynb",
      "provenance": [],
      "authorship_tag": "ABX9TyPd0vboLbvNf9c6Na+nhGRU",
      "include_colab_link": true
    },
    "kernelspec": {
      "name": "python3",
      "display_name": "Python 3"
    }
  },
  "cells": [
    {
      "cell_type": "markdown",
      "metadata": {
        "id": "view-in-github",
        "colab_type": "text"
      },
      "source": [
        "<a href=\"https://colab.research.google.com/github/Manuel-00/edd_1310_2021/blob/master/20octubre_1310.ipynb\" target=\"_parent\"><img src=\"https://colab.research.google.com/assets/colab-badge.svg\" alt=\"Open In Colab\"/></a>"
      ]
    },
    {
      "cell_type": "code",
      "metadata": {
        "id": "_zQsVT-TwUWz",
        "outputId": "0006acf9-65c4-4669-8e84-fd6b7833b0e4",
        "colab": {
          "base_uri": "https://localhost:8080/",
          "height": 272
        }
      },
      "source": [
        "archivo = open(\"numeros.txt\", 'rt')\n",
        "for linea in archivo.readlines()[:3:]:\n",
        "  for trunc in linea.split(','):\n",
        "    print(int(trunc.strip()))"
      ],
      "execution_count": 9,
      "outputs": [
        {
          "output_type": "stream",
          "text": [
            "23\n",
            "23\n",
            "44\n",
            "55\n",
            "5\n",
            "44\n",
            "4\n",
            "5\n",
            "7\n",
            "7\n",
            "6\n",
            "5\n",
            "4\n",
            "2\n",
            "1\n"
          ],
          "name": "stdout"
        }
      ]
    },
    {
      "cell_type": "markdown",
      "metadata": {
        "id": "g_Q-iL-b2qCU"
      },
      "source": [
        "# sintaxis del for en python \n",
        "dos versiones de for\n",
        "1. range\n",
        "2. in iterator "
      ]
    },
    {
      "cell_type": "code",
      "metadata": {
        "id": "w3KQn-i326v_",
        "outputId": "fe45c1f8-11f3-4744-acb8-3f6118c53ca1",
        "colab": {
          "base_uri": "https://localhost:8080/",
          "height": 170
        }
      },
      "source": [
        "r=(range(0,10,2))\n",
        "for x in r:\n",
        "  print(x)\n",
        "\n",
        "colores = ['rojo', 'rosa', 'azul', 'fucsia']\n",
        "\n",
        "for indice in range(0,len(colores),1): #for(indice = 0; indice <4; indice++)\n",
        "  #print(colores[indice])\n",
        "  colores[indice]=colores[indice].upper() # + str(indice)\n",
        "\n",
        "# for sobre un iterador \n",
        "\n",
        "for col in colores:\n",
        "  print(col)"
      ],
      "execution_count": 18,
      "outputs": [
        {
          "output_type": "stream",
          "text": [
            "0\n",
            "2\n",
            "4\n",
            "6\n",
            "8\n",
            "ROJO\n",
            "ROSA\n",
            "AZUL\n",
            "FUCSIA\n"
          ],
          "name": "stdout"
        }
      ]
    },
    {
      "cell_type": "markdown",
      "metadata": {
        "id": "YV963Mm77-h8"
      },
      "source": [
        "# generadores \n",
        "\n",
        "[\"hola\" valor for x in range(10)]"
      ]
    },
    {
      "cell_type": "code",
      "metadata": {
        "id": "wnPELol98W-z",
        "outputId": "30eec1e9-3d2e-49fc-c453-bd9e4b2a3a48",
        "colab": {
          "base_uri": "https://localhost:8080/",
          "height": 34
        }
      },
      "source": [
        "lista = [[0,0,0] for x in range(3)]\n",
        "print(lista)"
      ],
      "execution_count": 24,
      "outputs": [
        {
          "output_type": "stream",
          "text": [
            "[[0, 0, 0], [0, 0, 0], [0, 0, 0]]\n"
          ],
          "name": "stdout"
        }
      ]
    },
    {
      "cell_type": "code",
      "metadata": {
        "id": "Q6YT4Q6T-BJU",
        "outputId": "2536170b-920f-4d28-e65a-4b428f2c91d9",
        "colab": {
          "base_uri": "https://localhost:8080/",
          "height": 34
        }
      },
      "source": [
        "ren = 5\n",
        "col = 3\n",
        "lista = [[0 for x in range(col)] for x in range(ren)]\n",
        "print(lista)"
      ],
      "execution_count": 26,
      "outputs": [
        {
          "output_type": "stream",
          "text": [
            "[[0, 0, 0], [0, 0, 0], [0, 0, 0], [0, 0, 0], [0, 0, 0]]\n"
          ],
          "name": "stdout"
        }
      ]
    },
    {
      "cell_type": "markdown",
      "metadata": {
        "id": "z7I6CE1z_FEe"
      },
      "source": [
        "# POO en Python\n",
        "\n",
        "- clase\n",
        "- creacion de objetos\n",
        "- constuctor \n",
        "- encapsulamiento \n",
        "- metodos \n",
        "- atributos \n",
        "- herencia "
      ]
    },
    {
      "cell_type": "code",
      "metadata": {
        "id": "Pz20jWWb_g9o",
        "outputId": "6f587666-9cbf-4937-b8ea-ad0a848650af",
        "colab": {
          "base_uri": "https://localhost:8080/",
          "height": 34
        }
      },
      "source": [
        "class Computadora:\n",
        "  def __init__(self, m, p):\n",
        "    self.__marca= m\n",
        "    self.__procesador= p\n",
        "\n",
        "  def to_string(self):\n",
        "    return \"Marca:\"+self.__marca+\"Procesador:\"+self.__procesador\n",
        "\n",
        "mi_pc= Computadora(\"Toshiba\", \"Intel i7\")\n",
        "mi_pc.marca=\"HP \"\n",
        "print(mi_pc.to_string())"
      ],
      "execution_count": 34,
      "outputs": [
        {
          "output_type": "stream",
          "text": [
            "Marca:ToshibaProcesador:Intel i7\n"
          ],
          "name": "stdout"
        }
      ]
    }
  ]
}