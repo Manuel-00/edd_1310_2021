{
  "nbformat": 4,
  "nbformat_minor": 0,
  "metadata": {
    "colab": {
      "name": "13octubre_1310.ipynb",
      "provenance": [],
      "collapsed_sections": [],
      "authorship_tag": "ABX9TyOB2l1+n1/q1F9ChQ70cid8",
      "include_colab_link": true
    },
    "kernelspec": {
      "name": "python3",
      "display_name": "Python 3"
    }
  },
  "cells": [
    {
      "cell_type": "markdown",
      "metadata": {
        "id": "view-in-github",
        "colab_type": "text"
      },
      "source": [
        "<a href=\"https://colab.research.google.com/github/Manuel-00/edd_1310_2021/blob/master/13octubre_1310.ipynb\" target=\"_parent\"><img src=\"https://colab.research.google.com/assets/colab-badge.svg\" alt=\"Open In Colab\"/></a>"
      ]
    },
    {
      "cell_type": "code",
      "metadata": {
        "id": "zyO-fcNysZNZ",
        "outputId": "baaf7a2b-f63e-4fd9-d204-a51a099964f6",
        "colab": {
          "base_uri": "https://localhost:8080/",
          "height": 105
        }
      },
      "source": [
        "alumno = { \n",
        "          \"num_cta\" : 303030303 ,\n",
        "          \"carrera\" : \"ICO\",\n",
        "          \"promedio\" : 9.8,\n",
        "          \"materias\" :[\"EDD\",\"CyP\",\"Calidad\",\"Emprendimiento\"],\n",
        "          \"direccion\" : { \n",
        "                            \"calle\":\"rancho seco\",\n",
        "                            \"numero\" : 23 ,\n",
        "                            \"delegacion\" : \"Neza\",\n",
        "                            \"estado\" : {\n",
        "                                        \"id\" : 15 ,\n",
        "                                        \"nombre\" : \"Estado de Máxico\" ,\n",
        "                                        \"nombre_corto\" : \"EdoMex\"\n",
        "                                        } ,\n",
        "                            \"CP\":57170\n",
        "\n",
        "                        } \n",
        "          }\n",
        "print(alumno)\n",
        "alumno['carrera']= \"ingenieria en computacion\"\n",
        "print(alumno)\n",
        "alumno['nombre_completo']={'primer':\"Juan\", 'segundo': \"Pedro\", 'materno': \"Pérez\", \"paterno\" : \"Gómez\"}\n",
        "alumno['semestre']=3\n",
        "print(alumno)\n",
        "print(f\"{alumno['nombre_completo']['primer']} {alumno['nombre_completo']['segundo']}\")"
      ],
      "execution_count": 8,
      "outputs": [
        {
          "output_type": "stream",
          "text": [
            "{'num_cta': 303030303, 'carrera': 'ICO', 'promedio': 9.8, 'materias': ['EDD', 'CyP', 'Calidad', 'Emprendimiento'], 'direccion': {'calle': 'rancho seco', 'numero': 23, 'delegacion': 'Neza', 'estado': {'id': 15, 'nombre': 'Estado de Máxico', 'nombre_corto': 'EdoMex'}, 'CP': 57170}}\n",
            "{'num_cta': 303030303, 'carrera': 'ingenieria en computacion', 'promedio': 9.8, 'materias': ['EDD', 'CyP', 'Calidad', 'Emprendimiento'], 'direccion': {'calle': 'rancho seco', 'numero': 23, 'delegacion': 'Neza', 'estado': {'id': 15, 'nombre': 'Estado de Máxico', 'nombre_corto': 'EdoMex'}, 'CP': 57170}}\n",
            "{'num_cta': 303030303, 'carrera': 'ingenieria en computacion', 'promedio': 9.8, 'materias': ['EDD', 'CyP', 'Calidad', 'Emprendimiento'], 'direccion': {'calle': 'rancho seco', 'numero': 23, 'delegacion': 'Neza', 'estado': {'id': 15, 'nombre': 'Estado de Máxico', 'nombre_corto': 'EdoMex'}, 'CP': 57170}, 'nombre_completo': {'primer': 'Juan', 'segundo': 'Pedro', 'materno': 'Pérez', 'paterno': 'Gómez'}, 'semestre': 3}\n",
            "Juan Pedro\n"
          ],
          "name": "stdout"
        }
      ]
    },
    {
      "cell_type": "code",
      "metadata": {
        "id": "wEMvLvXjx95R",
        "outputId": "9efbd860-ee79-44ae-ebb2-5d9968e04105",
        "colab": {
          "base_uri": "https://localhost:8080/",
          "height": 428
        }
      },
      "source": [
        "# key(), values() y items()\n",
        "llaves = alumno.keys()\n",
        "print(llaves)\n",
        "for llave in llaves:\n",
        "  print(llave.upper())\n",
        "\n",
        "valores = alumno.values()\n",
        "for val in valores:\n",
        "  print(val)\n",
        "\n",
        "pares = alumno.items()  \n",
        "print(pares)\n",
        "for elem in pares:\n",
        "  print(f\"el campo {elem[0]} tiene el valor {elem[1]}\")"
      ],
      "execution_count": 14,
      "outputs": [
        {
          "output_type": "stream",
          "text": [
            "dict_keys(['num_cta', 'carrera', 'promedio', 'materias', 'direccion', 'nombre_completo', 'semestre'])\n",
            "NUM_CTA\n",
            "CARRERA\n",
            "PROMEDIO\n",
            "MATERIAS\n",
            "DIRECCION\n",
            "NOMBRE_COMPLETO\n",
            "SEMESTRE\n",
            "303030303\n",
            "ingenieria en computacion\n",
            "9.8\n",
            "['EDD', 'CyP', 'Calidad', 'Emprendimiento']\n",
            "{'calle': 'rancho seco', 'numero': 23, 'delegacion': 'Neza', 'estado': {'id': 15, 'nombre': 'Estado de Máxico', 'nombre_corto': 'EdoMex'}, 'CP': 57170}\n",
            "{'primer': 'Juan', 'segundo': 'Pedro', 'materno': 'Pérez', 'paterno': 'Gómez'}\n",
            "3\n",
            "dict_items([('num_cta', 303030303), ('carrera', 'ingenieria en computacion'), ('promedio', 9.8), ('materias', ['EDD', 'CyP', 'Calidad', 'Emprendimiento']), ('direccion', {'calle': 'rancho seco', 'numero': 23, 'delegacion': 'Neza', 'estado': {'id': 15, 'nombre': 'Estado de Máxico', 'nombre_corto': 'EdoMex'}, 'CP': 57170}), ('nombre_completo', {'primer': 'Juan', 'segundo': 'Pedro', 'materno': 'Pérez', 'paterno': 'Gómez'}), ('semestre', 3)])\n",
            "el campo num_cta tiene el valor 303030303\n",
            "el campo carrera tiene el valor ingenieria en computacion\n",
            "el campo promedio tiene el valor 9.8\n",
            "el campo materias tiene el valor ['EDD', 'CyP', 'Calidad', 'Emprendimiento']\n",
            "el campo direccion tiene el valor {'calle': 'rancho seco', 'numero': 23, 'delegacion': 'Neza', 'estado': {'id': 15, 'nombre': 'Estado de Máxico', 'nombre_corto': 'EdoMex'}, 'CP': 57170}\n",
            "el campo nombre_completo tiene el valor {'primer': 'Juan', 'segundo': 'Pedro', 'materno': 'Pérez', 'paterno': 'Gómez'}\n",
            "el campo semestre tiene el valor 3\n"
          ],
          "name": "stdout"
        }
      ]
    },
    {
      "cell_type": "code",
      "metadata": {
        "id": "db7XNk2c1BIO",
        "outputId": "8c511ccd-a282-43fe-9192-87c26c3ca06c",
        "colab": {
          "base_uri": "https://localhost:8080/",
          "height": 34
        }
      },
      "source": [
        "computadora = {\"procesador\" : \"Intel i7\", \"ram\":\"Kingston 128GB\"}\n",
        "otros = {\"monitor\": \"LG 49\\\"\", \"HD\": \"Toshiba 1TB\" }\n",
        "computadora.update(otros)\n",
        "print(computadora)"
      ],
      "execution_count": 16,
      "outputs": [
        {
          "output_type": "stream",
          "text": [
            "{'procesador': 'Intel i7', 'ram': 'Kingston 128GB', 'monitor': 'LG 49\"', 'HD': 'Toshiba 1TB'}\n"
          ],
          "name": "stdout"
        }
      ]
    },
    {
      "cell_type": "markdown",
      "metadata": {
        "id": "3rBeSo802odq"
      },
      "source": [
        "# funciones\n",
        "- unidades de codigo reutilizable \n",
        "- es un mecanismo de organizacion de código \n",
        "- una funcion toma de 0 a n parametros de entrada\n",
        "- tiene una sola salida (return) de cualquier dato\n",
        "- solo puedes hacer dos cosas: definirla o llamarla"
      ]
    },
    {
      "cell_type": "code",
      "metadata": {
        "id": "E8tWKLvK37K7",
        "outputId": "8fd1f472-34fa-403e-ef3f-e7bc8c044eeb",
        "colab": {
          "base_uri": "https://localhost:8080/",
          "height": 204
        }
      },
      "source": [
        "def sumar(x, y):\n",
        "  resultado = x + y\n",
        "  return resultado\n",
        "\n",
        "def saludar(nombre):\n",
        "  print(f\"Hola {nombre}, ¿Como estas?\")  \n",
        "  return None\n",
        "#prsocesar None\n",
        "def multiplicar (valor, veces):\n",
        "  if valor != None:\n",
        "    c = valor * veces\n",
        "  else:\n",
        "    c = \"Operacion no valida\"\n",
        "  return c\n",
        "\n",
        "def operacion (a, b, c):\n",
        "  res = a + (b/c)\n",
        "  return res\n",
        "\n",
        "\n",
        "print(sumar(10, 5))\n",
        "print(sumar(2, 6))\n",
        "c = sumar(3,7)\n",
        "print(c)\n",
        "saludar(\"Manuel\")\n",
        "print(saludar('Billy'))\n",
        "print(multiplicar(5, 6))\n",
        "print(multiplicar(None, 6))\n",
        "print (operacion (2,9,3))\n",
        "print (operacion (2,3,9))\n",
        "print (operacion (a=2,c=3,b=9))"
      ],
      "execution_count": 28,
      "outputs": [
        {
          "output_type": "stream",
          "text": [
            "15\n",
            "8\n",
            "10\n",
            "Hola Manuel, ¿Como estas?\n",
            "Hola Billy, ¿Como estas?\n",
            "None\n",
            "30\n",
            "Operacion no valida\n",
            "5.0\n",
            "2.3333333333333335\n",
            "5.0\n"
          ],
          "name": "stdout"
        }
      ]
    },
    {
      "cell_type": "code",
      "metadata": {
        "id": "AgTwEyfA-jqt",
        "outputId": "77cf14eb-e565-4f0f-d284-cb1ad5108222",
        "colab": {
          "base_uri": "https://localhost:8080/",
          "height": 258
        }
      },
      "source": [
        "# valores por defecto \n",
        "def comanda(primer ,fuerte, postre=\"Galletas de animalito\"):\n",
        "    print(f\"De entrada pidio: { primer }\")\n",
        "    print(f\"De plato fuerte {fuerte}\")\n",
        "    print(f\"Postre: {postre}\")  \n",
        "# argumentos posicionales con tuplas\n",
        "def comanda_2(*opciones):\n",
        "  print(opciones)\n",
        "  print(f\"De entrada pidio: { opciones[0] }\")\n",
        "  print(f\"De plato fuerte {opciones[1]}\")\n",
        "  print(f\"Postre: {opciones[2]}\")\n",
        "  print(\"\\nIndicaciones extra:\")\n",
        "  for ind in opciones[3::]:\n",
        "    print(f\"\\t {ind}\")     \n",
        "\n",
        "comanda(\"sopa aguada\", \"tortas de papa\", \"gelatina de limon\")\n",
        "comanda(\"sopa aguada\", \"tortas de papa\")\n",
        "comanda_2(\"sopa de aguada\",\"tortas de papa\",\"gelatina de limon\",\"las tortas bien doradas, traer dos limones\")\n",
        "\n"
      ],
      "execution_count": 52,
      "outputs": [
        {
          "output_type": "stream",
          "text": [
            "De entrada pidio: sopa aguada\n",
            "De plato fuerte tortas de papa\n",
            "Postre: gelatina de limon\n",
            "De entrada pidio: sopa aguada\n",
            "De plato fuerte tortas de papa\n",
            "Postre: Galletas de animalito\n",
            "('sopa de aguada', 'tortas de papa', 'gelatina de limon', 'las tortas bien doradas, traer dos limones')\n",
            "De entrada pidio: sopa de aguada\n",
            "De plato fuerte tortas de papa\n",
            "Postre: gelatina de limon\n",
            "\n",
            "Indicaciones extra:\n",
            "\t las tortas bien doradas, traer dos limones\n"
          ],
          "name": "stdout"
        }
      ]
    },
    {
      "cell_type": "code",
      "metadata": {
        "id": "UFV-EBElB6a5",
        "outputId": "5fd6b0b4-f792-4d40-9d4d-66ab4090da42",
        "colab": {
          "base_uri": "https://localhost:8080/",
          "height": 156
        }
      },
      "source": [
        "#argumentos posicionales con diccionarios **\n",
        "def comanda_3(**opciones):\n",
        "  print(opciones)\n",
        "  for op in opciones.items():\n",
        "    print(f\"{op[0]} -> {op[1]}\")\n",
        "comanda_3(primer=\"sopa de aguada\", fuerte=\"tortas de papa\", postre=\"gelatina de limon\", extra1=\"las tortas bien doradas\", extra2=\"traer dos limones\", extra3=\"Agua con hielo\")  \n"
      ],
      "execution_count": 55,
      "outputs": [
        {
          "output_type": "stream",
          "text": [
            "{'primer': 'sopa de aguada', 'fuerte': 'tortas de papa', 'postre': 'gelatina de limon', 'extra1': 'las tortas bien doradas', 'extra2': 'traer dos limones', 'extra3': 'Agua con hielo'}\n",
            "primer -> sopa de aguada\n",
            "fuerte -> tortas de papa\n",
            "postre -> gelatina de limon\n",
            "extra1 -> las tortas bien doradas\n",
            "extra2 -> traer dos limones\n",
            "extra3 -> Agua con hielo\n"
          ],
          "name": "stdout"
        }
      ]
    }
  ]
}