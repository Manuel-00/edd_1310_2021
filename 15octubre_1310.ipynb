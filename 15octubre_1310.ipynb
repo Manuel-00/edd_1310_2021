{
  "nbformat": 4,
  "nbformat_minor": 0,
  "metadata": {
    "colab": {
      "name": "15octubre_1310.ipynb",
      "provenance": [],
      "collapsed_sections": [],
      "authorship_tag": "ABX9TyMe4/ghlW3nw6jKL+WxH/JT",
      "include_colab_link": true
    },
    "kernelspec": {
      "name": "python3",
      "display_name": "Python 3"
    }
  },
  "cells": [
    {
      "cell_type": "markdown",
      "metadata": {
        "id": "view-in-github",
        "colab_type": "text"
      },
      "source": [
        "<a href=\"https://colab.research.google.com/github/Manuel-00/edd_1310_2021/blob/master/15octubre_1310.ipynb\" target=\"_parent\"><img src=\"https://colab.research.google.com/assets/colab-badge.svg\" alt=\"Open In Colab\"/></a>"
      ]
    },
    {
      "cell_type": "code",
      "metadata": {
        "id": "NATyteel84NV"
      },
      "source": [
        ""
      ],
      "execution_count": null,
      "outputs": []
    },
    {
      "cell_type": "markdown",
      "metadata": {
        "id": "UXKOs2b9Bxyb"
      },
      "source": [
        "#modulos\n",
        "Son recursos reutilizables que contienen  varias funciones que pueden ser importadas a tu código"
      ]
    },
    {
      "cell_type": "code",
      "metadata": {
        "id": "fu5t1K3nCEwP",
        "outputId": "3d1daada-20be-43bb-dfb3-04ee24a4ff0b",
        "colab": {
          "base_uri": "https://localhost:8080/",
          "height": 52
        }
      },
      "source": [
        "\"\"\"\n",
        "import mi_modulo\n",
        "\n",
        "x = mi_modulo.sumar(4,7)\n",
        "\n",
        "print(x)\n",
        "\n",
        "print(mi_modulo.multiplicar(3,5))\n",
        "\"\"\""
      ],
      "execution_count": 10,
      "outputs": [
        {
          "output_type": "execute_result",
          "data": {
            "application/vnd.google.colaboratory.intrinsic+json": {
              "type": "string"
            },
            "text/plain": [
              "'\\nimport mi_modulo\\n\\nx = mi_modulo.sumar(4,7)\\n\\nprint(x)\\n\\nprint(mi_modulo.multiplicar(3,5))\\n'"
            ]
          },
          "metadata": {
            "tags": []
          },
          "execution_count": 10
        }
      ]
    },
    {
      "cell_type": "code",
      "metadata": {
        "id": "4TZwsKe5JF34",
        "outputId": "59e0e9ef-8663-468c-e941-bf56b988d581",
        "colab": {
          "base_uri": "https://localhost:8080/",
          "height": 51
        }
      },
      "source": [
        "from mi_modulo import sumar, dividir\n",
        "\n",
        "print(sumar(4,7))\n",
        "print(dividir(14,7))"
      ],
      "execution_count": 18,
      "outputs": [
        {
          "output_type": "stream",
          "text": [
            "11\n",
            "2.0\n"
          ],
          "name": "stdout"
        }
      ]
    },
    {
      "cell_type": "code",
      "metadata": {
        "id": "TCOFPEjILSCE",
        "outputId": "b827bba6-2bc9-445b-c462-dee71ce4b6c5",
        "colab": {
          "base_uri": "https://localhost:8080/",
          "height": 34
        }
      },
      "source": [
        "import mi_modulo as patito\n",
        "\n",
        "print(patito.sumar(4,6))"
      ],
      "execution_count": 17,
      "outputs": [
        {
          "output_type": "stream",
          "text": [
            "10\n"
          ],
          "name": "stdout"
        }
      ]
    },
    {
      "cell_type": "code",
      "metadata": {
        "id": "At57VqCJOCA3"
      },
      "source": [
        "pip install joke-generator"
      ],
      "execution_count": null,
      "outputs": []
    },
    {
      "cell_type": "code",
      "metadata": {
        "id": "eQeucw-rPsQO",
        "outputId": "adb76c5e-0d97-4d99-dc59-05b955ed1f28",
        "colab": {
          "base_uri": "https://localhost:8080/",
          "height": 35
        }
      },
      "source": [
        "from joke_generator import generate\n",
        "\n",
        "generate()"
      ],
      "execution_count": 22,
      "outputs": [
        {
          "output_type": "execute_result",
          "data": {
            "application/vnd.google.colaboratory.intrinsic+json": {
              "type": "string"
            },
            "text/plain": [
              "'Why was the robot angry? Because someone kept pressing his buttons!'"
            ]
          },
          "metadata": {
            "tags": []
          },
          "execution_count": 22
        }
      ]
    },
    {
      "cell_type": "markdown",
      "metadata": {
        "id": "8yKcblnOSRgm"
      },
      "source": [
        "# archivos\n",
        "- open (str, str)\n",
        "  1. Nombre o ruta del archivo \n",
        "  1. Dos caracteres\n",
        "    - modo de apertura del archivo (r, w, a appen si y solo si el archivo existe, x append sy y solo si el archivo existe)\n",
        "    - formato del archico (t o b) "
      ]
    },
    {
      "cell_type": "code",
      "metadata": {
        "id": "F7IsTHlASsh1"
      },
      "source": [
        "archivo = open(\"saludo.txt\",\"wt\")\n",
        "archivo.write(\"Hola mundo \\n ola ke aze\")\n",
        "archivo.close()"
      ],
      "execution_count": 23,
      "outputs": []
    },
    {
      "cell_type": "code",
      "metadata": {
        "id": "rID_f_6aUcmL",
        "outputId": "45857937-bc66-4898-a670-8e05f97c98d4",
        "colab": {
          "base_uri": "https://localhost:8080/",
          "height": 173
        }
      },
      "source": [
        "otro = open('./sample_data/anscombe.json',\"rt\")\n",
        "datos = otro.read()\n",
        "#print(datos)\n",
        "otro.close()\n",
        "\n",
        "arch = open('frutas.txt', 'rt')\n",
        "data= 'ppp'\n",
        "while(data != ''):\n",
        "  data= arch.readline()\n",
        "  print(data)\n",
        "\n",
        "\n",
        "arch.close()\n",
        "arch = open('frutas.txt', 'rt')\n",
        "list_frutas = arch.readlines() \n",
        "print(list_frutas) \n",
        "arch.close()"
      ],
      "execution_count": 32,
      "outputs": [
        {
          "output_type": "stream",
          "text": [
            "manzana,pera ,   kiwi  , aguacate\n",
            "\n",
            "limon , naranja , \n",
            "\n",
            "sandia , papaya\n",
            "\n",
            "\n",
            "['manzana,pera ,   kiwi  , aguacate\\n', 'limon , naranja , \\n', 'sandia , papaya\\n']\n"
          ],
          "name": "stdout"
        }
      ]
    },
    {
      "cell_type": "code",
      "metadata": {
        "id": "hV-Kjvy0WmMd",
        "outputId": "1890babe-8b13-4389-f86c-b3413056552a",
        "colab": {
          "base_uri": "https://localhost:8080/",
          "height": 1000
        }
      },
      "source": [
        "help(otro)"
      ],
      "execution_count": 26,
      "outputs": [
        {
          "output_type": "stream",
          "text": [
            "Help on TextIOWrapper object:\n",
            "\n",
            "class TextIOWrapper(_TextIOBase)\n",
            " |  Character and line based layer over a BufferedIOBase object, buffer.\n",
            " |  \n",
            " |  encoding gives the name of the encoding that the stream will be\n",
            " |  decoded or encoded with. It defaults to locale.getpreferredencoding(False).\n",
            " |  \n",
            " |  errors determines the strictness of encoding and decoding (see\n",
            " |  help(codecs.Codec) or the documentation for codecs.register) and\n",
            " |  defaults to \"strict\".\n",
            " |  \n",
            " |  newline controls how line endings are handled. It can be None, '',\n",
            " |  '\\n', '\\r', and '\\r\\n'.  It works as follows:\n",
            " |  \n",
            " |  * On input, if newline is None, universal newlines mode is\n",
            " |    enabled. Lines in the input can end in '\\n', '\\r', or '\\r\\n', and\n",
            " |    these are translated into '\\n' before being returned to the\n",
            " |    caller. If it is '', universal newline mode is enabled, but line\n",
            " |    endings are returned to the caller untranslated. If it has any of\n",
            " |    the other legal values, input lines are only terminated by the given\n",
            " |    string, and the line ending is returned to the caller untranslated.\n",
            " |  \n",
            " |  * On output, if newline is None, any '\\n' characters written are\n",
            " |    translated to the system default line separator, os.linesep. If\n",
            " |    newline is '' or '\\n', no translation takes place. If newline is any\n",
            " |    of the other legal values, any '\\n' characters written are translated\n",
            " |    to the given string.\n",
            " |  \n",
            " |  If line_buffering is True, a call to flush is implied when a call to\n",
            " |  write contains a newline character.\n",
            " |  \n",
            " |  Method resolution order:\n",
            " |      TextIOWrapper\n",
            " |      _TextIOBase\n",
            " |      _IOBase\n",
            " |      builtins.object\n",
            " |  \n",
            " |  Methods defined here:\n",
            " |  \n",
            " |  __getstate__(...)\n",
            " |  \n",
            " |  __init__(self, /, *args, **kwargs)\n",
            " |      Initialize self.  See help(type(self)) for accurate signature.\n",
            " |  \n",
            " |  __new__(*args, **kwargs) from builtins.type\n",
            " |      Create and return a new object.  See help(type) for accurate signature.\n",
            " |  \n",
            " |  __next__(self, /)\n",
            " |      Implement next(self).\n",
            " |  \n",
            " |  __repr__(self, /)\n",
            " |      Return repr(self).\n",
            " |  \n",
            " |  close(self, /)\n",
            " |      Flush and close the IO object.\n",
            " |      \n",
            " |      This method has no effect if the file is already closed.\n",
            " |  \n",
            " |  detach(self, /)\n",
            " |      Separate the underlying buffer from the TextIOBase and return it.\n",
            " |      \n",
            " |      After the underlying buffer has been detached, the TextIO is in an\n",
            " |      unusable state.\n",
            " |  \n",
            " |  fileno(self, /)\n",
            " |      Returns underlying file descriptor if one exists.\n",
            " |      \n",
            " |      OSError is raised if the IO object does not use a file descriptor.\n",
            " |  \n",
            " |  flush(self, /)\n",
            " |      Flush write buffers, if applicable.\n",
            " |      \n",
            " |      This is not implemented for read-only and non-blocking streams.\n",
            " |  \n",
            " |  isatty(self, /)\n",
            " |      Return whether this is an 'interactive' stream.\n",
            " |      \n",
            " |      Return False if it can't be determined.\n",
            " |  \n",
            " |  read(self, size=-1, /)\n",
            " |      Read at most n characters from stream.\n",
            " |      \n",
            " |      Read from underlying buffer until we have n characters or we hit EOF.\n",
            " |      If n is negative or omitted, read until EOF.\n",
            " |  \n",
            " |  readable(self, /)\n",
            " |      Return whether object was opened for reading.\n",
            " |      \n",
            " |      If False, read() will raise OSError.\n",
            " |  \n",
            " |  readline(self, size=-1, /)\n",
            " |      Read until newline or EOF.\n",
            " |      \n",
            " |      Returns an empty string if EOF is hit immediately.\n",
            " |  \n",
            " |  seek(self, cookie, whence=0, /)\n",
            " |      Change stream position.\n",
            " |      \n",
            " |      Change the stream position to the given byte offset. The offset is\n",
            " |      interpreted relative to the position indicated by whence.  Values\n",
            " |      for whence are:\n",
            " |      \n",
            " |      * 0 -- start of stream (the default); offset should be zero or positive\n",
            " |      * 1 -- current stream position; offset may be negative\n",
            " |      * 2 -- end of stream; offset is usually negative\n",
            " |      \n",
            " |      Return the new absolute position.\n",
            " |  \n",
            " |  seekable(self, /)\n",
            " |      Return whether object supports random access.\n",
            " |      \n",
            " |      If False, seek(), tell() and truncate() will raise OSError.\n",
            " |      This method may need to do a test seek().\n",
            " |  \n",
            " |  tell(self, /)\n",
            " |      Return current stream position.\n",
            " |  \n",
            " |  truncate(self, pos=None, /)\n",
            " |      Truncate file to size bytes.\n",
            " |      \n",
            " |      File pointer is left unchanged.  Size defaults to the current IO\n",
            " |      position as reported by tell().  Returns the new size.\n",
            " |  \n",
            " |  writable(self, /)\n",
            " |      Return whether object was opened for writing.\n",
            " |      \n",
            " |      If False, write() will raise OSError.\n",
            " |  \n",
            " |  write(self, text, /)\n",
            " |      Write string to stream.\n",
            " |      Returns the number of characters written (which is always equal to\n",
            " |      the length of the string).\n",
            " |  \n",
            " |  ----------------------------------------------------------------------\n",
            " |  Data descriptors defined here:\n",
            " |  \n",
            " |  buffer\n",
            " |  \n",
            " |  closed\n",
            " |  \n",
            " |  encoding\n",
            " |      Encoding of the text stream.\n",
            " |      \n",
            " |      Subclasses should override.\n",
            " |  \n",
            " |  errors\n",
            " |      The error setting of the decoder or encoder.\n",
            " |      \n",
            " |      Subclasses should override.\n",
            " |  \n",
            " |  line_buffering\n",
            " |  \n",
            " |  name\n",
            " |  \n",
            " |  newlines\n",
            " |      Line endings translated so far.\n",
            " |      \n",
            " |      Only line endings translated during reading are considered.\n",
            " |      \n",
            " |      Subclasses should override.\n",
            " |  \n",
            " |  ----------------------------------------------------------------------\n",
            " |  Methods inherited from _IOBase:\n",
            " |  \n",
            " |  __del__(...)\n",
            " |  \n",
            " |  __enter__(...)\n",
            " |  \n",
            " |  __exit__(...)\n",
            " |  \n",
            " |  __iter__(self, /)\n",
            " |      Implement iter(self).\n",
            " |  \n",
            " |  readlines(self, hint=-1, /)\n",
            " |      Return a list of lines from the stream.\n",
            " |      \n",
            " |      hint can be specified to control the number of lines read: no more\n",
            " |      lines will be read if the total size (in bytes/characters) of all\n",
            " |      lines so far exceeds hint.\n",
            " |  \n",
            " |  writelines(self, lines, /)\n",
            " |  \n",
            " |  ----------------------------------------------------------------------\n",
            " |  Data descriptors inherited from _IOBase:\n",
            " |  \n",
            " |  __dict__\n",
            "\n"
          ],
          "name": "stdout"
        }
      ]
    }
  ]
}