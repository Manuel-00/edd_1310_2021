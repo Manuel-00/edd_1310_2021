{
  "nbformat": 4,
  "nbformat_minor": 0,
  "metadata": {
    "colab": {
      "name": "6octubre_1310.ipynb",
      "provenance": [],
      "authorship_tag": "ABX9TyN/sDxhrfJbdf4F7ri6OLGm",
      "include_colab_link": true
    },
    "kernelspec": {
      "name": "python3",
      "display_name": "Python 3"
    }
  },
  "cells": [
    {
      "cell_type": "markdown",
      "metadata": {
        "id": "view-in-github",
        "colab_type": "text"
      },
      "source": [
        "<a href=\"https://colab.research.google.com/github/Manuel-00/edd_1310_2021/blob/master/6octubre_1310.ipynb\" target=\"_parent\"><img src=\"https://colab.research.google.com/assets/colab-badge.svg\" alt=\"Open In Colab\"/></a>"
      ]
    },
    {
      "cell_type": "code",
      "metadata": {
        "id": "7BI7l_LfqHxd",
        "outputId": "193de4f3-46d2-46d1-f9de-486f9f69d495",
        "colab": {
          "base_uri": "https://localhost:8080/",
          "height": 340
        }
      },
      "source": [
        "# String Continuacion\n",
        "\n",
        "numeros_txt = '   1, 2, 3, 4    , 5    , 35  , 15  , 12'\n",
        "print(numeros_txt)\n",
        "numeros_txt = numeros_txt.lstrip().split(',')\n",
        "print(numeros_txt)\n",
        "\n",
        "for j in range(len(numeros_txt)):\n",
        "  numeros_txt[j]=  int(numeros_txt[j].strip())\n",
        "print(numeros_txt)\n",
        "\n",
        "# funcion range()\n",
        "\n",
        "# range(inicio, strop, incremento)\n",
        "print(range(1,10,3))\n",
        "rango = range(1,10,2)\n",
        "\n",
        "for x in rango:\n",
        "  print(x)\n",
        "\n",
        "rango= range(10)\n",
        "for x in rango:\n",
        "  print(x)"
      ],
      "execution_count": 9,
      "outputs": [
        {
          "output_type": "stream",
          "text": [
            "   1, 2, 3, 4    , 5    , 35  , 15  , 12\n",
            "['1', ' 2', ' 3', ' 4    ', ' 5    ', ' 35  ', ' 15  ', ' 12']\n",
            "[1, 2, 3, 4, 5, 35, 15, 12]\n",
            "range(1, 10, 3)\n",
            "1\n",
            "3\n",
            "5\n",
            "7\n",
            "9\n",
            "0\n",
            "1\n",
            "2\n",
            "3\n",
            "4\n",
            "5\n",
            "6\n",
            "7\n",
            "8\n",
            "9\n"
          ],
          "name": "stdout"
        }
      ]
    },
    {
      "cell_type": "markdown",
      "metadata": {
        "id": "kLS5Nbp9xDsz"
      },
      "source": [
        "# listas\n",
        "- mutables\n",
        "- declaran con []\n",
        "- selectror [int]\n",
        "- pueden ser de cuaqluier tipo y mezclado \n",
        "\n",
        "# tuplas\n",
        "- no mutables\n",
        "- declaran con ()\n",
        "- selectos [int]\n",
        "\n",
        "#diccionarios\n",
        "- son mutables\n",
        "- son conjunto de pares llave:valor\n",
        "- equivalentes a los obejetos JSON de JavaScritp\n",
        "\n",
        "#conjuntos\n",
        "- representacion d ela teoria de conjuntos"
      ]
    },
    {
      "cell_type": "code",
      "metadata": {
        "id": "cGbLo821yTU7",
        "outputId": "dd776f9e-d168-4fbb-9190-371320b15707",
        "colab": {
          "base_uri": "https://localhost:8080/",
          "height": 153
        }
      },
      "source": [
        "# Listas (Equivalentes a los arreglos en otros lenguajes de prog.)\n",
        "frutas = [\"Pera\", \"Manzana\", \"fresa\", \"Kiwi\", \"Naranja\"]\n",
        "print(frutas)\n",
        "cosas = [\"cuaderno\", 2, 3.1416, True, False, [\"Rojo\", \"Azul\"]]\n",
        "print(cosas)\n",
        "frutas[2]=\"Fresa\"  # frutas[2] = frutas[2].capitalize()\n",
        "print(frutas)\n",
        "# agregar a lista\n",
        "frutas.append(\"Aguacate\")\n",
        "print(frutas)\n",
        "frutas.insert(2,\"Sandia\")\n",
        "print(frutas)\n",
        "\n",
        "# concatenar listas\n",
        "fecha=[\"06\",\"10\",\"2020\"]\n",
        "print(fecha)\n",
        "\"/\".join(fecha)\n",
        "fecha_str= \"/\".join(fecha)\n",
        "print(fecha_str)"
      ],
      "execution_count": 21,
      "outputs": [
        {
          "output_type": "stream",
          "text": [
            "['Pera', 'Manzana', 'fresa', 'Kiwi', 'Naranja']\n",
            "['cuaderno', 2, 3.1416, True, False, ['Rojo', 'Azul']]\n",
            "['Pera', 'Manzana', 'Fresa', 'Kiwi', 'Naranja']\n",
            "['Pera', 'Manzana', 'Fresa', 'Kiwi', 'Naranja', 'Aguacate']\n",
            "['Pera', 'Manzana', 'Sandia', 'Fresa', 'Kiwi', 'Naranja', 'Aguacate']\n",
            "['06', '10', '2020']\n",
            "06/10/2020\n",
            "['cuaderno', 2, 3.1416, True, False, ['Rojo', 'Azul']]\n"
          ],
          "name": "stdout"
        }
      ]
    },
    {
      "cell_type": "code",
      "metadata": {
        "id": "9d2tR5bi3TAL",
        "outputId": "167a7093-38d9-458d-f94d-ef7d17a3b7a3",
        "colab": {
          "base_uri": "https://localhost:8080/",
          "height": 170
        }
      },
      "source": [
        "# eliminar elemntos\n",
        "cosas = [\"cuaderno\", 2, 3.1416, True, False, [\"Rojo\", \"Azul\"]]\n",
        "print(cosas)\n",
        "cosas.append(\"Libro\")\n",
        "cosas.append(\"Lapiz\")\n",
        "print(cosas)\n",
        "algo = cosas.pop()\n",
        "print(cosas)\n",
        "print(algo)\n",
        "algo = cosas.pop(2)\n",
        "print(cosas)\n",
        "print(algo)\n",
        "\n",
        "# Vaciar una lista\n",
        "\n",
        "cosas.clear()\n",
        "print(cosas)\n",
        "\n",
        "#ordenar\n",
        "print(frutas)\n",
        "frutas.sort()\n",
        "print(frutas)\n"
      ],
      "execution_count": 28,
      "outputs": [
        {
          "output_type": "stream",
          "text": [
            "['cuaderno', 2, 3.1416, True, False, ['Rojo', 'Azul']]\n",
            "['cuaderno', 2, 3.1416, True, False, ['Rojo', 'Azul'], 'Libro', 'Lapiz']\n",
            "['cuaderno', 2, 3.1416, True, False, ['Rojo', 'Azul'], 'Libro']\n",
            "Lapiz\n",
            "['cuaderno', 2, True, False, ['Rojo', 'Azul'], 'Libro']\n",
            "3.1416\n",
            "[]\n",
            "['Pera', 'Manzana', 'Sandia', 'Fresa', 'Kiwi', 'Naranja', 'Aguacate']\n",
            "['Aguacate', 'Fresa', 'Kiwi', 'Manzana', 'Naranja', 'Pera', 'Sandia']\n"
          ],
          "name": "stdout"
        }
      ]
    },
    {
      "cell_type": "code",
      "metadata": {
        "id": "7sgIhTE-7GE1",
        "outputId": "30a579db-1c54-4aec-e9d9-cf5581b673ee",
        "colab": {
          "base_uri": "https://localhost:8080/",
          "height": 119
        }
      },
      "source": [
        "# Slicing\n",
        "\n",
        "cosas = [\"cuaderno\", 2, 3.1416, True, False, [\"Rojo\", \"Azul\"]]\n",
        "print(cosas[3:5:1])\n",
        "print(cosas)\n",
        "print(cosas[0][3:5:1])\n",
        "\n",
        "numeros = [0,1,2,3,4,5,6,7,8,9,10,11,12,13,14,15]\n",
        "print(numeros[8:13:])\n",
        "\n",
        "#sustituir rebanadas \n",
        "numeros [8:13:]= [-2,-2]\n",
        "print(numeros)\n",
        "\n",
        "#preguntar por excistencia\n",
        "print(100 in numeros)"
      ],
      "execution_count": 35,
      "outputs": [
        {
          "output_type": "stream",
          "text": [
            "[True, False]\n",
            "['cuaderno', 2, 3.1416, True, False, ['Rojo', 'Azul']]\n",
            "de\n",
            "[8, 9, 10, 11, 12]\n",
            "[0, 1, 2, 3, 4, 5, 6, 7, -2, -2, 13, 14, 15]\n",
            "False\n"
          ],
          "name": "stdout"
        }
      ]
    },
    {
      "cell_type": "markdown",
      "metadata": {
        "id": "kR6Abod9-jVQ"
      },
      "source": [
        "# listas multi dimension\n",
        "\n",
        "listas dentro de listas\n",
        "\n"
      ]
    },
    {
      "cell_type": "code",
      "metadata": {
        "id": "NOjKxKqu-q1r",
        "outputId": "e4a41d00-c53d-4f9d-e408-35240c69f4ab",
        "colab": {
          "base_uri": "https://localhost:8080/",
          "height": 190
        }
      },
      "source": [
        "computadoras=[\"HP\", \"Mac Book pro 17\", \"Mate book\", \"Lenovo legion\"]\n",
        "oss = [\"WIndows 10\", \"Linux\", \"Android\", \"iOS\",]\n",
        "\n",
        "computo= [computadoras, oss]\n",
        "print(computo[0])\n",
        "print(computo[1])\n",
        "print(computo[0][2])\n",
        "print(computo[0][2][0:5])\n",
        "print(computo[0][3][5::-1])\n",
        "print(computo[0][3][-8::-1])\n",
        "print(\"Linux\" in computo[1])\n",
        "dbms = [ [\"Mysql\", \"Open Source\", False] , [\"MS SQL Server\", \"de paga\", True]]\n",
        "computo.append(dbms)\n",
        "print(computo)\n",
        "print(computo[2][0][0])"
      ],
      "execution_count": 42,
      "outputs": [
        {
          "output_type": "stream",
          "text": [
            "['HP', 'Mac Book pro 17', 'Mate book', 'Lenovo legion']\n",
            "['WIndows 10', 'Linux', 'Android', 'iOS']\n",
            "Mate book\n",
            "Mate \n",
            "ovoneL\n",
            "ovoneL\n",
            "True\n",
            "[['HP', 'Mac Book pro 17', 'Mate book', 'Lenovo legion'], ['WIndows 10', 'Linux', 'Android', 'iOS'], [['Mysql', 'Open Source', False], ['MS SQL Server', 'de paga', True]]]\n",
            "Mysql\n"
          ],
          "name": "stdout"
        }
      ]
    },
    {
      "cell_type": "code",
      "metadata": {
        "id": "T3EI5HgNz1ta"
      },
      "source": [
        "help(list)"
      ],
      "execution_count": null,
      "outputs": []
    }
  ]
}