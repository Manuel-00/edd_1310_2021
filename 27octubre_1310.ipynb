{
  "nbformat": 4,
  "nbformat_minor": 0,
  "metadata": {
    "colab": {
      "name": "27octubre_1310.ipynb",
      "provenance": [],
      "authorship_tag": "ABX9TyNNTQmWmKTIg9LnuLUUp4Bl",
      "include_colab_link": true
    },
    "kernelspec": {
      "name": "python3",
      "display_name": "Python 3"
    }
  },
  "cells": [
    {
      "cell_type": "markdown",
      "metadata": {
        "id": "view-in-github",
        "colab_type": "text"
      },
      "source": [
        "<a href=\"https://colab.research.google.com/github/Manuel-00/edd_1310_2021/blob/master/27octubre_1310.ipynb\" target=\"_parent\"><img src=\"https://colab.research.google.com/assets/colab-badge.svg\" alt=\"Open In Colab\"/></a>"
      ]
    },
    {
      "cell_type": "code",
      "metadata": {
        "id": "vS2LZpvm_HEo",
        "outputId": "8fe9536b-3762-488c-f499-747ece828443",
        "colab": {
          "base_uri": "https://localhost:8080/",
          "height": 68
        }
      },
      "source": [
        "class Computadora:\n",
        "    def __init__( self , m , p):\n",
        "        self.__marca = m\n",
        "        self.__procesador = p\n",
        "\n",
        "    def to_string( self ):\n",
        "        return \"MArca:\"+self.__marca+\" Procesador:\"+self.__procesador\n",
        "    \n",
        "    def set_marca( self , m ):\n",
        "      self._marca= m\n",
        "\n",
        "    def get_marca( self ):\n",
        "        return self._marca \n",
        "\n",
        "\n",
        "    def set_procesador(self , p):\n",
        "        self.__procesador = p\n",
        "\n",
        "    def get_procesador( self ):\n",
        "        return self.__procesador\n",
        "\n",
        "\n",
        "mi_pc = Computadora(\"Toshiba\",\"Intel i7\")\n",
        "print(mi_pc.to_string())\n",
        "mi_pc.__marca=\"HP \"   #intyentadon cambiar el valor privado\n",
        "mi_pc.__marca=\"HP co.\" \n",
        "print(mi_pc.to_string())\n",
        "#print(mi.pc__procesador)\n",
        "print(mi_pc.get_procesador())"
      ],
      "execution_count": 3,
      "outputs": [
        {
          "output_type": "stream",
          "text": [
            "MArca:Toshiba Procesador:Intel i7\n",
            "MArca:Toshiba Procesador:Intel i7\n",
            "Intel i7\n"
          ],
          "name": "stdout"
        }
      ]
    },
    {
      "cell_type": "markdown",
      "metadata": {
        "id": "jT1Yd4-NEJaP"
      },
      "source": [
        "# encapsulamiento python 3 \n",
        "## tradicional tipo Java \n",
        "    void setAtributo (val)\n",
        "    tipo getAtributo ( )\n",
        "## estilo python 3\n",
        "Utilizando Decoradores \n",
        "-@property\n",
        "-@atributo.setter"
      ]
    },
    {
      "cell_type": "code",
      "metadata": {
        "id": "lh4U0KyXH09P",
        "outputId": "13e18c5b-43b9-448c-8364-58dbdbad33cf",
        "colab": {
          "base_uri": "https://localhost:8080/",
          "height": 102
        }
      },
      "source": [
        "class Computadora: \n",
        "  def __init__(self, m , p):\n",
        "    self.marca = m # de manda llamar el docorador @property\n",
        "    self.procesador = p #idem\n",
        "  @property       #declara vomo atributo privado y funciona como método get\n",
        "  def marca(self):\n",
        "    return self.__marca\n",
        "\n",
        "  @marca.setter\n",
        "  def marca(self, m):\n",
        "    print(\"En el setter de marca\")\n",
        "    self.__marca = m\n",
        "\n",
        "  @property\n",
        "  def procesador( self ):\n",
        "    return self.__procesador\n",
        "  \n",
        "  @procesador.setter\n",
        "  def procesador (self, p):\n",
        "    print(\"En el método set de procesador\")\n",
        "    self.__procesador = p\n",
        "\n",
        "  def to_string(self):\n",
        "    return \"marca: \" + self.marca + \" Procesador:\" + self.procesador\n",
        "\n",
        "mi_pc2 = Computadora(\"Mac book pro\", \"Intel i7\")\n",
        "print(mi_pc2.to_string())\n",
        "mi_pc2.marca = \"Dell\"\n",
        "print(mi_pc2.to_string())"
      ],
      "execution_count": 12,
      "outputs": [
        {
          "output_type": "stream",
          "text": [
            "En el setter de marca\n",
            "En el método set de procesador\n",
            "marca: Mac book pro Procesador:Intel i7\n",
            "En el setter de marca\n",
            "marca: Dell Procesador:Intel i7\n"
          ],
          "name": "stdout"
        }
      ]
    },
    {
      "cell_type": "code",
      "metadata": {
        "id": "tCSuv9GNQh-p",
        "outputId": "7049c5d6-e0dd-4437-8bd0-c3402e6e12d2",
        "colab": {
          "base_uri": "https://localhost:8080/",
          "height": 85
        }
      },
      "source": [
        "#herencia pasado la clase base a la declaracion \n",
        "class servidorEmpresarial(Computadora):\n",
        "  def __init__(self):\n",
        "    print(\"Hola servidor\")\n",
        "server= servidorEmpresarial()\n",
        "server.marca= \"Sun Micro Systems\"\n",
        "server.procesador= \"Intel i7\"\n",
        "print(server.to_string())"
      ],
      "execution_count": 15,
      "outputs": [
        {
          "output_type": "stream",
          "text": [
            "Hola servidor\n",
            "En el setter de marca\n",
            "En el método set de procesador\n",
            "marca: Sun Micro Systems Procesador:Intel i7\n"
          ],
          "name": "stdout"
        }
      ]
    }
  ]
}