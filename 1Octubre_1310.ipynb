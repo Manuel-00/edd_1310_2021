{
  "nbformat": 4,
  "nbformat_minor": 0,
  "metadata": {
    "colab": {
      "name": "1Octubre_1310.ipynb",
      "provenance": [],
      "authorship_tag": "ABX9TyMe/DWoOXaNCkCldFaBbGeW",
      "include_colab_link": true
    },
    "kernelspec": {
      "name": "python3",
      "display_name": "Python 3"
    }
  },
  "cells": [
    {
      "cell_type": "markdown",
      "metadata": {
        "id": "view-in-github",
        "colab_type": "text"
      },
      "source": [
        "<a href=\"https://colab.research.google.com/github/Manuel-00/edd_1310_2021/blob/master/1Octubre_1310.ipynb\" target=\"_parent\"><img src=\"https://colab.research.google.com/assets/colab-badge.svg\" alt=\"Open In Colab\"/></a>"
      ]
    },
    {
      "cell_type": "markdown",
      "metadata": {
        "id": "ZB0VJwg77sQw"
      },
      "source": [
        "## Intro Python 3\n",
        "## Variables\n",
        "Tipo dinamico\n",
        "escuela= 'Fes Aragon'"
      ]
    },
    {
      "cell_type": "code",
      "metadata": {
        "id": "cOIH13bt5Eb6",
        "outputId": "3766ba95-59d6-47e5-bc17-e1c9f65119e0",
        "colab": {
          "base_uri": "https://localhost:8080/",
          "height": 187
        }
      },
      "source": [
        "escuela = 'Fes Aragon'\n",
        "print (escuela)\n",
        "print(\"---------\")\n",
        "edad = 13\n",
        "estatura = 167\n",
        "fumador = True\n",
        "frase= \"\"\"\n",
        "Esta es\n",
        "una\n",
        "frase \n",
        "de multiples lineas\n",
        "y tambien es\n",
        "un tipo de dato\n",
        "\"\"\"\n",
        "print (frase)\n",
        "nombre = 'jose'\n",
        "nombre_completo = \"jose sosa cardenas\""
      ],
      "execution_count": 1,
      "outputs": [
        {
          "output_type": "stream",
          "text": [
            "Fes Aragon\n",
            "---------\n",
            "\n",
            "Esta es\n",
            "una\n",
            "frase \n",
            "de multiples lineas\n",
            "y tambien es\n",
            "un tipo de dato\n",
            "\n"
          ],
          "name": "stdout"
        }
      ]
    },
    {
      "cell_type": "markdown",
      "metadata": {
        "id": "aweBA9jW91P_"
      },
      "source": [
        "# Print\n",
        "con comas,\n",
        "\n",
        "con signo mas +\n",
        "\n",
        "con format ()\n",
        "\n",
        "con el operador f\"\""
      ]
    },
    {
      "cell_type": "code",
      "metadata": {
        "id": "9xywkftB-DgH",
        "outputId": "0ce8f205-ef9f-497b-f87e-f2bab667c5dd",
        "colab": {
          "base_uri": "https://localhost:8080/",
          "height": 34
        }
      },
      "source": [
        "print (nombre, edad)"
      ],
      "execution_count": 2,
      "outputs": [
        {
          "output_type": "stream",
          "text": [
            "jose 13\n"
          ],
          "name": "stdout"
        }
      ]
    },
    {
      "cell_type": "code",
      "metadata": {
        "id": "2JUcrlYr_CJF",
        "outputId": "006880c2-e49f-48c0-a787-660b1458986b",
        "colab": {
          "base_uri": "https://localhost:8080/",
          "height": 51
        }
      },
      "source": [
        "# + concatena y str en caso de no ser string\n",
        "print(nombre + str(edad))\n",
        "print(nombre + nombre_completo)"
      ],
      "execution_count": 7,
      "outputs": [
        {
          "output_type": "stream",
          "text": [
            "jose13\n",
            "josejose sosa cardenas\n"
          ],
          "name": "stdout"
        }
      ]
    },
    {
      "cell_type": "code",
      "metadata": {
        "id": "S4pJb8H6AOpA",
        "outputId": "0314e3dd-42a5-4fd0-84f8-c66e93f2b97e",
        "colab": {
          "base_uri": "https://localhost:8080/",
          "height": 68
        }
      },
      "source": [
        "# con formato => Su nombre Jose y su edad es 13 años \n",
        "print(\"Su nombre es\", nombre, \"y su edad es de\",edad, \"años.\")\n",
        "print(\"Su nombre es {0} y su edad es de {1} años.\".format(nombre,edad))\n",
        "print(\"Su nombre es {1} y su edad es de {0} años.\".format(nombre,edad))"
      ],
      "execution_count": 11,
      "outputs": [
        {
          "output_type": "stream",
          "text": [
            "Su nombre es jose y su edad es de 13 años.\n",
            "Su nombre es jose y su edad es de 13 años.\n",
            "Su nombre es 13 y su edad es de jose años.\n"
          ],
          "name": "stdout"
        }
      ]
    },
    {
      "cell_type": "code",
      "metadata": {
        "id": "Fwibs4xhBtdI",
        "outputId": "7c7527d1-aded-413b-9a70-555c2ef8506f",
        "colab": {
          "base_uri": "https://localhost:8080/",
          "height": 34
        }
      },
      "source": [
        "# con formato con el operador f\"\"\n",
        "print(f\"Su nombre es {nombre} y su edad es de {edad} años.\")"
      ],
      "execution_count": 12,
      "outputs": [
        {
          "output_type": "stream",
          "text": [
            "Su nombre es jose y su edad es de 13 años.\n"
          ],
          "name": "stdout"
        }
      ]
    },
    {
      "cell_type": "markdown",
      "metadata": {
        "id": "xvEK_U13CgZW"
      },
      "source": [
        "# Carcter de escape\n",
        "\\n salto de linea\n",
        "\n",
        "\\t tabulador\n",
        "\n",
        "\\a beep\n",
        "\n",
        "\\\\\" imprimir comilla doble\n",
        "\n",
        "\\\\' imprimir comilla simple"
      ]
    },
    {
      "cell_type": "code",
      "metadata": {
        "id": "i35GTF6fDYAH",
        "outputId": "0b3e941c-fd96-4c8c-a7c0-192e464f2fa8",
        "colab": {
          "base_uri": "https://localhost:8080/",
          "height": 51
        }
      },
      "source": [
        "\"\"\"\n",
        "Esto es \n",
        "un comentario\n",
        "de multiple linea\n",
        "tan tan\n",
        "\"\"\"\n",
        "print(f\"\\tMi nombre es\\n\\t\\t {nombre}\")  "
      ],
      "execution_count": 13,
      "outputs": [
        {
          "output_type": "stream",
          "text": [
            "\tMi nombre es\n",
            "\t\t jose\n"
          ],
          "name": "stdout"
        }
      ]
    },
    {
      "cell_type": "markdown",
      "metadata": {
        "id": "ruBAbVZYDyOv"
      },
      "source": [
        "# Ayuda de tipos de dato en python\n",
        "dir()\n",
        "\n",
        "help()"
      ]
    },
    {
      "cell_type": "code",
      "metadata": {
        "id": "tF72a9_XELSW"
      },
      "source": [
        "# El str, int, float, bool ... list, dict, set\n",
        "help(str)"
      ],
      "execution_count": null,
      "outputs": []
    },
    {
      "cell_type": "code",
      "metadata": {
        "id": "NRlTTulCFOgl",
        "outputId": "061b2912-13c1-4c7a-c511-e7bcf9287bb9",
        "colab": {
          "base_uri": "https://localhost:8080/",
          "height": 51
        }
      },
      "source": [
        "print(nombre_completo.capitalize())\n",
        "print(nombre_completo.upper(), end=\"----\")\n",
        "print(nombre_completo.title())"
      ],
      "execution_count": 20,
      "outputs": [
        {
          "output_type": "stream",
          "text": [
            "Jose sosa cardenas\n",
            "JOSE SOSA CARDENAS----Jose Sosa Cardenas\n"
          ],
          "name": "stdout"
        }
      ]
    },
    {
      "cell_type": "markdown",
      "metadata": {
        "id": "QdAfP9xvGtwn"
      },
      "source": [
        "# clase String\n",
        "Es manejada como un arreglo (o java) o lista (python)\n",
        "nota: el stop no se icncluye, termina en el valor anterior al stop"
      ]
    },
    {
      "cell_type": "code",
      "metadata": {
        "id": "w1CNKSaqH225",
        "outputId": "558f9d06-352a-42e3-8773-90ea77aab50d",
        "colab": {
          "base_uri": "https://localhost:8080/",
          "height": 34
        }
      },
      "source": [
        "telefono = \"Huawei mate 30 pro\"\n",
        "print(telefono[5])"
      ],
      "execution_count": 22,
      "outputs": [
        {
          "output_type": "stream",
          "text": [
            "i\n"
          ],
          "name": "stdout"
        }
      ]
    },
    {
      "cell_type": "code",
      "metadata": {
        "id": "e299vC_2IJyN"
      },
      "source": [
        "# sliicing (rebando)\n",
        "[inicio:stop:incremento]"
      ],
      "execution_count": null,
      "outputs": []
    },
    {
      "cell_type": "code",
      "metadata": {
        "id": "E79l3MAhIhbb",
        "outputId": "1ccdb5a4-39ba-4f90-b611-71eb912f7148",
        "colab": {
          "base_uri": "https://localhost:8080/",
          "height": 102
        }
      },
      "source": [
        "print(telefono[7:11:1])\n",
        "# el inicio y el incremento son opcionales \n",
        "print(telefono[:11:])\n",
        "# el valor por defecto de stop len(str)\n",
        "print(telefono[::])\n",
        "# incremento negativo\n",
        "print(telefono[::-1])\n",
        "# slacing negativo\n",
        "ini = -3\n",
        "inc = 1\n",
        "print(telefono[ini::inc])"
      ],
      "execution_count": 28,
      "outputs": [
        {
          "output_type": "stream",
          "text": [
            "mate\n",
            "Huawei mate\n",
            "Huawei mate 30 pro\n",
            "orp 03 etam iewauH\n",
            "pro\n"
          ],
          "name": "stdout"
        }
      ]
    },
    {
      "cell_type": "markdown",
      "metadata": {
        "id": "ICf23GaTNMaD"
      },
      "source": [
        "# métodos de string (str)\n",
        "Existen métodos muy útiles en esta clase."
      ]
    },
    {
      "cell_type": "code",
      "metadata": {
        "id": "G8-z5IXaNYy6",
        "outputId": "49944883-28c6-4249-8e24-2a64e8c272f2",
        "colab": {
          "base_uri": "https://localhost:8080/",
          "height": 357
        }
      },
      "source": [
        "facultad = \"    facultad de estudios superiores aragon      \\n\"\n",
        "print(facultad)\n",
        "print(facultad.count(\" \")) # cuenta elemntos en la cadena\n",
        "print(facultad.find(\"s\")) # encuentra el primer elemnto coincidente en la cadena\n",
        "print(facultad.strip())\n",
        "tamaño=len(facultad)\n",
        "print(len(facultad))\n",
        "print(f\"tamaño de la cdena es {tamaño} carecteres\")\n",
        "print(facultad)\n",
        "print(facultad.strip().split(\" \"))\n",
        "print(\"---------------------\")\n",
        "#copiar cadenas\n",
        "otra_cadena = facultad\n",
        "print(otra_cadena)\n",
        "otra_cadena=\"FES Aragon\"\n",
        "print(facultad)\n",
        "print(otra_cadena)\n",
        "#copiar listas\n",
        "colores = [\"rojo\", \"verde\"]\n",
        "otra = colores.copy()\n",
        "print(colores)\n",
        "print(otra)\n",
        "otra.append(\"rosa\")\n",
        "print(colores)\n",
        "print(otra)"
      ],
      "execution_count": 46,
      "outputs": [
        {
          "output_type": "stream",
          "text": [
            "    facultad de estudios superiores aragon      \n",
            "\n",
            "14\n",
            "17\n",
            "facultad de estudios superiores aragon\n",
            "49\n",
            "tamaño de la cdena es 49 carecteres\n",
            "    facultad de estudios superiores aragon      \n",
            "\n",
            "['facultad', 'de', 'estudios', 'superiores', 'aragon']\n",
            "---------------------\n",
            "    facultad de estudios superiores aragon      \n",
            "\n",
            "    facultad de estudios superiores aragon      \n",
            "\n",
            "FES Aragon\n",
            "['rojo', 'verde']\n",
            "['rojo', 'verde']\n",
            "['rojo', 'verde']\n",
            "['rojo', 'verde', 'rosa']\n"
          ],
          "name": "stdout"
        }
      ]
    }
  ]
}