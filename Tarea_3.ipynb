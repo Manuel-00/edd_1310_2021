{
  "nbformat": 4,
  "nbformat_minor": 0,
  "metadata": {
    "colab": {
      "name": "Tarea #3.ipynb",
      "provenance": [],
      "authorship_tag": "ABX9TyNnxF3ehwrJzsV8PipL3Ar1",
      "include_colab_link": true
    },
    "kernelspec": {
      "name": "python3",
      "display_name": "Python 3"
    }
  },
  "cells": [
    {
      "cell_type": "markdown",
      "metadata": {
        "id": "view-in-github",
        "colab_type": "text"
      },
      "source": [
        "<a href=\"https://colab.research.google.com/github/Manuel-00/edd_1310_2021/blob/master/Tarea_3.ipynb\" target=\"_parent\"><img src=\"https://colab.research.google.com/assets/colab-badge.svg\" alt=\"Open In Colab\"/></a>"
      ]
    },
    {
      "cell_type": "code",
      "metadata": {
        "id": "bFPSQiAirZq5",
        "outputId": "837cb2d8-58e0-464b-ac77-e519133d14d4",
        "colab": {
          "base_uri": "https://localhost:8080/",
          "height": 51
        }
      },
      "source": [
        "class Persona:\n",
        "  def __init__(self, n, e, es):\n",
        "    self.__nombre= n\n",
        "    self.__edad= e\n",
        "    self.__estatura= es\n",
        "\n",
        "\n",
        "  def Dormir(self):\n",
        "    return self.__nombre+\"duerme menos porque a los \"+self.__edad+\"años tienes más responsabilidades\"\n",
        "  def Comer(self):\n",
        "    return self.__nombre+\"come más porque mide \"+self.__estatura+\" y necesita más alimeto\" \n",
        "    \n",
        "yo= Persona(\"Manuel \",\"19 \",\"1.73\")\n",
        "print(yo.Dormir())\n",
        "print(yo.Comer())"
      ],
      "execution_count": 30,
      "outputs": [
        {
          "output_type": "stream",
          "text": [
            "Manuel duerme menos porque a los 19 años tienes más responsabilidades\n",
            "Manuel come más porque mide 1.73 y necesita más alimeto\n"
          ],
          "name": "stdout"
        }
      ]
    },
    {
      "cell_type": "code",
      "metadata": {
        "id": "gd2lyRhQtRS2",
        "outputId": "20330632-827e-4dba-9e42-d3b9b34900e2",
        "colab": {
          "base_uri": "https://localhost:8080/",
          "height": 51
        }
      },
      "source": [
        "class Celular:\n",
        "  def __init__(self, m, mo, em):\n",
        "    self.__marca= m\n",
        "    self.__modelo= mo\n",
        "    self.__memoria= em\n",
        "\n",
        "\n",
        "  def Llamar(self):\n",
        "    return \"Llamame a mi \"+self.__marca + self.__modelo\n",
        "  def PonerAlarma(self):\n",
        "    return \"Mi celular ya no puede poner más alarmas por la memoria de solo \"+self.__memoria\n",
        "\n",
        "cel= Celular(\"Samsung \",\"Galaxy Grand Prime+ \",\"8GB\")\n",
        "print(cel.Llamar())\n",
        "print(cel.PonerAlarma())"
      ],
      "execution_count": 34,
      "outputs": [
        {
          "output_type": "stream",
          "text": [
            "Llamame a mi Samsung Galaxy Grand Prime+ \n",
            "Mi celular ya no puede poner más alarmas por la memoria de solo 8GB\n"
          ],
          "name": "stdout"
        }
      ]
    }
  ]
}