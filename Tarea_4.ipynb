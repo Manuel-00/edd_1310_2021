{
  "nbformat": 4,
  "nbformat_minor": 0,
  "metadata": {
    "colab": {
      "name": "Tarea 4.ipynb",
      "provenance": [],
      "collapsed_sections": [],
      "authorship_tag": "ABX9TyP5/zueM1M8Ahs2hO6YiTOF",
      "include_colab_link": true
    },
    "kernelspec": {
      "name": "python3",
      "display_name": "Python 3"
    }
  },
  "cells": [
    {
      "cell_type": "markdown",
      "metadata": {
        "id": "view-in-github",
        "colab_type": "text"
      },
      "source": [
        "<a href=\"https://colab.research.google.com/github/Manuel-00/edd_1310_2021/blob/master/Tarea_4.ipynb\" target=\"_parent\"><img src=\"https://colab.research.google.com/assets/colab-badge.svg\" alt=\"Open In Colab\"/></a>"
      ]
    },
    {
      "cell_type": "code",
      "metadata": {
        "id": "Ps8ODC5RYWpK",
        "outputId": "604fddc2-8c29-42c6-f719-81e30e9ab3c7",
        "colab": {
          "base_uri": "https://localhost:8080/"
        }
      },
      "source": [
        "import pandas as f\n",
        "from datetime import datetime\n",
        "\n",
        "class Cuatro:\n",
        "    def __init__ (self, nombre):\n",
        "        try:\n",
        "            self.__info = f.read_csv(nombre)\n",
        "            print(self.__info)\n",
        "        except Exception as e:\n",
        "            print(\"Error\")\n",
        "\n",
        "    def calcular_Sueldo(self, N, S, AI, E, h):\n",
        "        t = datetime.now()\n",
        "        for j in range(len(self.__info)):\n",
        "            p = (t.year - self.__info[' '+AI][j]) *.03\n",
        "            s = self.__info[' '+S][j] + (h * self.__info[' '+E][j]) + (self.__info[' '+S][j]*p)\n",
        "            print(self.__info[' '+N][j] +\": Sueldo base: \" + str(self.__info[' '+S][j]) +\", Año de ingreso: \" + str(self.__info[' '+AI][j]) + \", Horas extra: \" + str(self.__info[' '+E][j]) + \", Prestacion: \" + str(p))\n",
        "            print(\"Sueldo final: \" + str(s))\n",
        "\n",
        "    def empleado_mas_Reciente(self, AI, N, A):\n",
        "        mi = max(self.__info[' '+AI])\n",
        "        for j in range(len(self.__info)):\n",
        "            if self.__info[' '+AI][j] == mi:\n",
        "                print(\"Empleado más reciente: \" + self.__info[' '+N][j] +' '+ self.__info[' '+A][j])\n",
        "\n",
        "    def empleado_mas_Antiguo(self, AI, N, A):\n",
        "        mx = min(self.__info[' '+AI])\n",
        "        for j in range(len(self.__info)):\n",
        "            if self.__info[' '+AI][j] == mx:\n",
        "                print(\"Empleado más antiguo: \" + self.__info[' '+N][j] +' '+ self.__info[' '+A][j])\n",
        "\n",
        "datos = Cuatro('junio.dat')\n",
        "datos.calcular_Sueldo('nombres', 'sueldo base', 'año de ingreso', 'horas extra', 276.5)\n",
        "datos.empleado_mas_Antiguo('año de ingreso', 'nombres', 'paterno')\n",
        "datos.empleado_mas_Reciente('año de ingreso', 'nombres', 'paterno')"
      ],
      "execution_count": 34,
      "outputs": [
        {
          "output_type": "stream",
          "text": [
            "    numero de trabajador    nombres  ...  sueldo base  año de ingreso\n",
            "0                   2345     CARLOS  ...         9850            2017\n",
            "1                   5754      ANGEL  ...         9850            2020\n",
            "2                   5345      JESUS  ...         9850            2016\n",
            "3                   3267      DAVID  ...         9850            2017\n",
            "4                   8765      PEDRO  ...         9850            2017\n",
            "5                   5454     DANIEL  ...         9850            2018\n",
            "6                   3456  ALEJANDRO  ...         9850            2018\n",
            "7                   3445      MARIA  ...         9850            2018\n",
            "8                   9088    ALBERTO  ...         9850            2017\n",
            "9                   8877     RAFAEL  ...         9850            2017\n",
            "10                  6767   FERNANDO  ...         9850            2019\n",
            "11                  5654      PABLO  ...         9850            2019\n",
            "12                  4323      JORGE  ...         9850            2020\n",
            "13                  2232      RAMON  ...         9850            2016\n",
            "\n",
            "[14 rows x 7 columns]\n",
            "CARLOS: Sueldo base: 9850, Año de ingreso: 2017, Horas extra: 0, Prestacion: 0.09\n",
            "Sueldo final: 10736.5\n",
            "ANGEL: Sueldo base: 9850, Año de ingreso: 2020, Horas extra: 1, Prestacion: 0.0\n",
            "Sueldo final: 10126.5\n",
            "JESUS: Sueldo base: 9850, Año de ingreso: 2016, Horas extra: 2, Prestacion: 0.12\n",
            "Sueldo final: 11585.0\n",
            "DAVID: Sueldo base: 9850, Año de ingreso: 2017, Horas extra: 2, Prestacion: 0.09\n",
            "Sueldo final: 11289.5\n",
            "PEDRO: Sueldo base: 9850, Año de ingreso: 2017, Horas extra: 2, Prestacion: 0.09\n",
            "Sueldo final: 11289.5\n",
            "DANIEL: Sueldo base: 9850, Año de ingreso: 2018, Horas extra: 3, Prestacion: 0.06\n",
            "Sueldo final: 11270.5\n",
            "ALEJANDRO: Sueldo base: 9850, Año de ingreso: 2018, Horas extra: 2, Prestacion: 0.06\n",
            "Sueldo final: 10994.0\n",
            "MARIA: Sueldo base: 9850, Año de ingreso: 2018, Horas extra: 1, Prestacion: 0.06\n",
            "Sueldo final: 10717.5\n",
            "ALBERTO: Sueldo base: 9850, Año de ingreso: 2017, Horas extra: 1, Prestacion: 0.09\n",
            "Sueldo final: 11013.0\n",
            "RAFAEL: Sueldo base: 9850, Año de ingreso: 2017, Horas extra: 2, Prestacion: 0.09\n",
            "Sueldo final: 11289.5\n",
            "FERNANDO: Sueldo base: 9850, Año de ingreso: 2019, Horas extra: 4, Prestacion: 0.03\n",
            "Sueldo final: 11251.5\n",
            "PABLO: Sueldo base: 9850, Año de ingreso: 2019, Horas extra: 1, Prestacion: 0.03\n",
            "Sueldo final: 10422.0\n",
            "JORGE: Sueldo base: 9850, Año de ingreso: 2020, Horas extra: 2, Prestacion: 0.0\n",
            "Sueldo final: 10403.0\n",
            "RAMON: Sueldo base: 9850, Año de ingreso: 2016, Horas extra: 1, Prestacion: 0.12\n",
            "Sueldo final: 11308.5\n",
            "Empleado más antiguo: JESUS MARTIN\n",
            "Empleado más antiguo: RAMON NAVARRO\n",
            "Empleado más reciente: ANGEL GOMEZ\n",
            "Empleado más reciente: JORGE GUTIERREZ\n"
          ],
          "name": "stdout"
        }
      ]
    }
  ]
}