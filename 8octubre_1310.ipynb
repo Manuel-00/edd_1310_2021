{
  "nbformat": 4,
  "nbformat_minor": 0,
  "metadata": {
    "colab": {
      "name": "8octubre_1310.ipynb",
      "provenance": [],
      "collapsed_sections": [],
      "authorship_tag": "ABX9TyPY5Kfm/dhdu6bnBdSaQXIG",
      "include_colab_link": true
    },
    "kernelspec": {
      "name": "python3",
      "display_name": "Python 3"
    }
  },
  "cells": [
    {
      "cell_type": "markdown",
      "metadata": {
        "id": "view-in-github",
        "colab_type": "text"
      },
      "source": [
        "<a href=\"https://colab.research.google.com/github/Manuel-00/edd_1310_2021/blob/master/8octubre_1310.ipynb\" target=\"_parent\"><img src=\"https://colab.research.google.com/assets/colab-badge.svg\" alt=\"Open In Colab\"/></a>"
      ]
    },
    {
      "cell_type": "code",
      "metadata": {
        "id": "b4VCSrFk7Umb",
        "outputId": "64a42530-e502-48e8-fb47-e4141438efed",
        "colab": {
          "base_uri": "https://localhost:8080/",
          "height": 139
        }
      },
      "source": [
        "monitores =[[\"Samsung\",\"17.3 \\\"\",1024],[\"BenQ\",\"40\\\"\",2048]]\n",
        "procesadores = [[\"Intel\",\"i7\",3.4],[\"AMD\",\"razzer\",3.3],[\"Intel\",\"i3\",3.1]]\n",
        "memorias = [[\"Kingston\", \"8GB\",\"DDR4\"],[\"Kingston\", \"16GB\",\"DDR3\"],[\"ADATA\", \"32GB\",\"DDR4\"]]\n",
        "\n",
        "componentes = [monitores,procesadores,memorias]\n",
        "\n",
        "print(componentes[1])\n",
        "print(componentes[2][1][1])\n",
        "print(componentes[0][1][2]*2) \n",
        "print(componentes[1][1][1][1:4])\n",
        "print(componentes[2][2][0].lower())\n",
        "componentes[2].append([\"Patito\",\"32 Gb\",\"DDR4\"])\n",
        "print(componentes[2])"
      ],
      "execution_count": 17,
      "outputs": [
        {
          "output_type": "stream",
          "text": [
            "[['Intel', 'i7', 3.4], ['AMD', 'razzer', 3.3], ['Intel', 'i3', 3.1]]\n",
            "16GB\n",
            "4096\n",
            "azz\n",
            "adata\n",
            "[['Kingston', '8GB', 'DDR4'], ['Kingston', '16GB', 'DDR3'], ['ADATA', '32GB', 'DDR4'], ['Patito,', '32 Gb', 'DDR4']]\n"
          ],
          "name": "stdout"
        }
      ]
    },
    {
      "cell_type": "code",
      "metadata": {
        "id": "p4U-IqZTHtbm",
        "outputId": "a1bba122-3a16-46bc-de48-b536fc6b3d95",
        "colab": {
          "base_uri": "https://localhost:8080/",
          "height": 187
        }
      },
      "source": [
        "# copiar listas \n",
        "# extender listas \n",
        "frutas= [\"manzanas\",\"pera\"]\n",
        "otras_frutas= [\"aguacate\",\"sandia\"]\n",
        "\n",
        "print(frutas+otras_frutas)\n",
        "print(frutas)\n",
        "\n",
        "# + sobre listas\n",
        "# frutas = frutas + otras_frutas\n",
        "# print(frutas)\n",
        "\n",
        "# funcion extend()\n",
        "#frutas.extend(otras_frutas)\n",
        "#print(frutas)\n",
        "\n",
        "\n",
        "#frutas.append(otras_frutas)\n",
        "#print(frutas)\n",
        "\n",
        "\n",
        "\n",
        "#copiar\n",
        "\n",
        "colores= [\"azul\",\"rojo\",\"verde\",\"violeta\"]\n",
        "otros_colores = colores\n",
        "print(colores)\n",
        "print(otros_colores)\n",
        "otros_colores.append(\"rosa\")\n",
        "print(colores)\n",
        "print(otros_colores)\n",
        "\n",
        "una_mas=colores.copy()\n",
        "print(una_mas)\n",
        "una_mas.append(\"gris\")\n",
        "print(una_mas)\n",
        "print(colores)\n",
        "\n",
        "#unpaking de listas\n",
        "\n",
        "alumno= [\"Jesus\",\"Perez\",\"Herrara\",22,\"ICO\",10.0]\n",
        "# nombre = alumno[0]\n",
        "# paterno = alumno[1]\n",
        "# etc.\n",
        "nombre,paterno,materno,edad,carrera,promedio= alumno\n",
        "print(f\"Alumno: {nombre} Carrera: { carrera} Promedio= {promedio}\")"
      ],
      "execution_count": 31,
      "outputs": [
        {
          "output_type": "stream",
          "text": [
            "['manzanas', 'pera', 'aguacate', 'sandia']\n",
            "['manzanas', 'pera']\n",
            "['azul', 'rojo', 'verde', 'violeta']\n",
            "['azul', 'rojo', 'verde', 'violeta']\n",
            "['azul', 'rojo', 'verde', 'violeta', 'rosa']\n",
            "['azul', 'rojo', 'verde', 'violeta', 'rosa']\n",
            "['azul', 'rojo', 'verde', 'violeta', 'rosa']\n",
            "['azul', 'rojo', 'verde', 'violeta', 'rosa', 'gris']\n",
            "['azul', 'rojo', 'verde', 'violeta', 'rosa']\n",
            "Alumno: Jesus Carrera: ICO Promedio= 10.0\n"
          ],
          "name": "stdout"
        }
      ]
    },
    {
      "cell_type": "markdown",
      "metadata": {
        "id": "05TiK7jIR7A6"
      },
      "source": [
        "# Tuplas\n",
        "- se declaran con () \n",
        "- selector con []\n",
        "- no son mutables"
      ]
    },
    {
      "cell_type": "code",
      "metadata": {
        "id": "PNQjaqviSL8J",
        "outputId": "d30f85e7-0ba7-4460-e561-357733143459",
        "colab": {
          "base_uri": "https://localhost:8080/",
          "height": 68
        }
      },
      "source": [
        "precios = (99.9,49.9,12.45, 23.3, 33.44, 55.66)\n",
        "print(precios[1])\n",
        "# precios[1]= 50.0 ejemplo de que no es mutable\n",
        "print(precios)\n",
        "print(precios[2:4])\n"
      ],
      "execution_count": 35,
      "outputs": [
        {
          "output_type": "stream",
          "text": [
            "49.9\n",
            "(99.9, 49.9, 12.45, 23.3, 33.44, 55.66)\n",
            "(12.45, 23.3)\n"
          ],
          "name": "stdout"
        }
      ]
    },
    {
      "cell_type": "markdown",
      "metadata": {
        "id": "wUD3-zK6Tjev"
      },
      "source": [
        "# Diccionarios\n",
        "- se declrara con llaves \n",
        "- si son mutables \n",
        "- conjunto de pares llave: valor\n",
        "- equivalente a los Objetos JSON de JavaScriot\n",
        "- selector [ str ]"
      ]
    },
    {
      "cell_type": "code",
      "metadata": {
        "id": "OpvuVnlvT5Wg",
        "outputId": "f40d9023-8b75-4265-c40c-050e71b60de0",
        "colab": {
          "base_uri": "https://localhost:8080/",
          "height": 139
        }
      },
      "source": [
        "cliente = {}\n",
        "print(cliente)\n",
        "alumno= { \"num_cta\" : 303030303 }\n",
        "print(alumno)\n",
        "\n",
        "alumno= { \n",
        "    \"num_cta\" : 303030303 , \n",
        "    \"carrera\" : \"ICO\", \n",
        "    \"promedio\" : 9.8,\n",
        "    \"materias\" : [\"EDD\", \"CyP\", \"Calidad\", \"Emprendimiento\"],\n",
        "    \"direccion\" : {\n",
        "        \"calle\" : \"rancho seco\",\n",
        "        \"numero\" : 23,\n",
        "        \"delegacion\" : \"Neza\",\n",
        "        \"estado\" : {\n",
        "            \"id\": 15,\n",
        "            \"nombre\" : \"Estado de Mexico\",\n",
        "            \"nombre_corto\": \"EdoMex\"\n",
        "        },\n",
        "        \"CP\": 57170\n",
        "    }\n",
        "\n",
        "    }\n",
        "print(alumno)\n",
        "print(alumno['materias'])\n",
        "print(alumno['promedio'])\n",
        "print(alumno['direccion']['estado']['nombre_corto'])\n"
      ],
      "execution_count": 43,
      "outputs": [
        {
          "output_type": "stream",
          "text": [
            "{}\n",
            "{'num_cta': 303030303}\n",
            "{'num_cta': 303030303, 'carrera': 'ICO', 'promedio': 9.8, 'materias': ['EDD', 'CyP', 'Calidad', 'Emprendimiento'], 'direccion': {'calle': 'rancho seco', 'numero': 23, 'delegacion': 'Neza', 'estado': {'id': 15, 'nombre': 'Estado de Mexico', 'nombre_corto': 'EdoMex'}, 'CP': 57170}}\n",
            "['EDD', 'CyP', 'Calidad', 'Emprendimiento']\n",
            "9.8\n",
            "EdoMex\n"
          ],
          "name": "stdout"
        }
      ]
    }
  ]
}